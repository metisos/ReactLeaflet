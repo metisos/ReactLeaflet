{
  "nbformat": 4,
  "nbformat_minor": 0,
  "metadata": {
    "colab": {
      "provenance": [],
      "gpuType": "T4",
      "authorship_tag": "ABX9TyPGDubjV0vXydmy/5waT2wU",
      "include_colab_link": true
    },
    "kernelspec": {
      "name": "python3",
      "display_name": "Python 3"
    },
    "language_info": {
      "name": "python"
    },
    "accelerator": "GPU"
  },
  "cells": [
    {
      "cell_type": "markdown",
      "metadata": {
        "id": "view-in-github",
        "colab_type": "text"
      },
      "source": [
        "<a href=\"https://colab.research.google.com/github/metisos/ReactLeaflet/blob/main/Battle_Simulation.ipynb\" target=\"_parent\"><img src=\"https://colab.research.google.com/assets/colab-badge.svg\" alt=\"Open In Colab\"/></a>"
      ]
    },
    {
      "cell_type": "markdown",
      "source": [
        "# Battle Simulation"
      ],
      "metadata": {
        "id": "YI7j_hxd41oM"
      }
    },
    {
      "cell_type": "code",
      "source": [
        "class MilitaryUnit:\n",
        "    def __init__(self, name, units, tanks=0, artillery=0, air_support=0, terrain_advantage=0):\n",
        "        self.name = name\n",
        "        self.units = units\n",
        "        self.tanks = tanks\n",
        "        self.artillery = artillery\n",
        "        self.air_support = air_support\n",
        "        self.terrain_advantage = terrain_advantage\n",
        "        self.strength = self.calculate_strength()\n",
        "\n",
        "    def calculate_strength(self):\n",
        "        # Each tank, artillery, and air support adds a fixed value to the strength\n",
        "        # Terrain advantage is a multiplier to the total strength\n",
        "        return (self.units + self.tanks * 5 + self.artillery * 4 + self.air_support * 6) * (1 + self.terrain_advantage)\n",
        "\n",
        "    def take_damage(self, damage):\n",
        "        # Convert damage to loss of units\n",
        "        self.units -= damage // 10\n",
        "        if self.units < 0:\n",
        "            self.units = 0\n",
        "        # Recalculate strength after taking damage\n",
        "        self.strength = self.calculate_strength()\n",
        "\n",
        "def simulate_battle(unit1, unit2):\n",
        "    round = 0\n",
        "    while unit1.units > 0 and unit2.units > 0:\n",
        "        round += 1\n",
        "        print(f\"Round {round}: {unit1.name} vs {unit2.name}\")\n",
        "\n",
        "        # Both units inflict damage equal to their current strength\n",
        "        unit1.take_damage(unit2.strength)\n",
        "        unit2.take_damage(unit1.strength)\n",
        "\n",
        "        print(f\"{unit1.name} Units: {unit1.units}, {unit2.name} Units: {unit2.units}\")\n",
        "\n",
        "        if unit1.units <= 0:\n",
        "            print(f\"{unit2.name} wins!\")\n",
        "            break\n",
        "        elif unit2.units <= 0:\n",
        "            print(f\"{unit1.name} wins!\")\n",
        "            break\n",
        "\n",
        "# Example units\n",
        "blue_army = MilitaryUnit(\"Blue Army\", 1000, tanks=30, artillery=20, air_support=10, terrain_advantage=0.1)\n",
        "red_army = MilitaryUnit(\"Red Army\", 1200, tanks=20, artillery=25, air_support=15, terrain_advantage=0)\n",
        "\n",
        "# Simulate battle\n",
        "simulate_battle(blue_army, red_army)\n"
      ],
      "metadata": {
        "id": "C7dklZJnjRno",
        "outputId": "00abc2d7-ac01-4816-ed94-05f9185b3bdc",
        "colab": {
          "base_uri": "https://localhost:8080/"
        }
      },
      "execution_count": null,
      "outputs": [
        {
          "output_type": "stream",
          "name": "stdout",
          "text": [
            "Round 1: Blue Army vs Red Army\n",
            "Blue Army Units: 851, Red Army Units: 1075.0\n",
            "Round 2: Blue Army vs Red Army\n",
            "Blue Army Units: 715.0, Red Army Units: 965.0\n",
            "Round 3: Blue Army vs Red Army\n",
            "Blue Army Units: 590.0, Red Army Units: 869.0\n",
            "Round 4: Blue Army vs Red Army\n",
            "Blue Army Units: 475.0, Red Army Units: 785.0\n",
            "Round 5: Blue Army vs Red Army\n",
            "Blue Army Units: 368.0, Red Army Units: 713.0\n",
            "Round 6: Blue Army vs Red Army\n",
            "Blue Army Units: 268.0, Red Army Units: 652.0\n",
            "Round 7: Blue Army vs Red Army\n",
            "Blue Army Units: 174.0, Red Army Units: 601.0\n",
            "Round 8: Blue Army vs Red Army\n",
            "Blue Army Units: 85.0, Red Army Units: 560.0\n",
            "Round 9: Blue Army vs Red Army\n",
            "Blue Army Units: 0.0, Red Army Units: 529.0\n",
            "Red Army wins!\n"
          ]
        }
      ]
    }
  ]
}